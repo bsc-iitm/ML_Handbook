{
  "cells": [
    {
      "cell_type": "markdown",
      "metadata": {},
      "source": [
        "---\n",
        "title: \"F1 Score\"\n",
        "author: \"Alape Aniruddha\"\n",
        "format:\n",
        "  html:\n",
        "    theme: theme.scss\n",
        "    toc: true\n",
        "    html-math-method: katex\n",
        "---\n"
      ]
    },
    {
      "cell_type": "markdown",
      "metadata": {
        "id": "HQdP2TYRFZJU"
      },
      "source": [
        "# F1 Score in Classification Metrics\n",
        "\n",
        "The f1_score is a metric that combines precision and recall into a single value and can be interpreted as the harmonic mean of the two.\n",
        "\n",
        "The formula for the F1 Score is:\n",
        "\n",
        "$$\\displaystyle \\text{F1 Score} = 2 \\cdot \\frac{\\text{Precision} \\cdot \\text{Recall}}{\\text{Precision} + \\text{Recall}}$$\n",
        "\n",
        "The F1 Score ranges from 0 to 1, where 1 indicates perfect precision and recall, and the lowest possible value is 0, if either precision or recall is 0.\n",
        "\n",
        "\n",
        "\n",
        "\n",
        "\n",
        "\n",
        "\n",
        "\n",
        "\n",
        "\n"
      ]
    },
    {
      "cell_type": "markdown",
      "metadata": {
        "id": "cjJH8TJcFvC7"
      },
      "source": [
        "## Calculating F1 Score for Binary Classification Problems\n",
        "\n",
        "$$\\displaystyle \\text{F1 Score} = \\frac{2 \\cdot \\text{TP}}{2 \\cdot \\text{TP} + \\text{FP} + \\text{FN}}$$\n",
        "\n",
        "Where,\n",
        "TP = True Positives\n",
        "FP = False Positives\n",
        "FN = False Negatives\n"
      ]
    },
    {
      "cell_type": "markdown",
      "metadata": {
        "id": "i6-s2YwIFm06"
      },
      "source": [
        "## F1 Score in sklearn\n",
        "\n",
        "[`f1_score`](https://scikit-learn.org/stable/modules/generated/sklearn.metrics.f1_score.html) is the function in scikit-learn used to calculate the F1 Score.\n",
        "\n",
        "The parameters are as follows:\n",
        "\n",
        "- `y_true`: Ground truth (correct) labels.\n",
        "- `y_pred`: Predicted labels, as returned by a classifier.\n",
        "- `labels` (None): The set of labels to include when `average` is not None.\n",
        "- `pos_label` (1): The label of the positive class.\n",
        "- `average` ('binary'): The averaging strategy for multiclass settings.\n",
        "- `sample_weight` (None): Sample weights."
      ]
    },
    {
      "cell_type": "code",
      "execution_count": null,
      "metadata": {
        "colab": {
          "base_uri": "https://localhost:8080/"
        },
        "id": "jRqPnve-Fk6V",
        "outputId": "d61e1c56-5543-42b6-a07a-738d07be542c"
      },
      "outputs": [
        {
          "data": {
            "text/plain": [
              "0.8571428571428571"
            ]
          },
          "execution_count": 1,
          "metadata": {},
          "output_type": "execute_result"
        }
      ],
      "source": [
        "from sklearn.metrics import f1_score\n",
        "\n",
        "y_true = [0, 1, 1, 1, 0, 1]\n",
        "y_pred = [0, 1, 0, 1, 0, 1]\n",
        "\n",
        "f1_score(y_true, y_pred)"
      ]
    },
    {
      "cell_type": "markdown",
      "metadata": {
        "id": "mpV0iFAuFhor"
      },
      "source": [
        "## F1 Score on a real-world dataset\n",
        "\n",
        "We are going to calculate the F1 Score of a support vector machine (SVM) classifier model on the breast_cancer dataset using sklearn."
      ]
    },
    {
      "cell_type": "code",
      "execution_count": null,
      "metadata": {
        "colab": {
          "base_uri": "https://localhost:8080/"
        },
        "id": "T0UeE9f_FeYb",
        "outputId": "693443aa-2f71-444f-c20d-45742c9a350c"
      },
      "outputs": [
        {
          "data": {
            "text/plain": [
              "0.9617486338797814"
            ]
          },
          "execution_count": 2,
          "metadata": {},
          "output_type": "execute_result"
        }
      ],
      "source": [
        "from sklearn.datasets import load_breast_cancer\n",
        "from sklearn.model_selection import train_test_split\n",
        "from sklearn.svm import SVC\n",
        "\n",
        "X, y = load_breast_cancer(return_X_y=True, as_frame=True)\n",
        "X_train, X_test, y_train, y_test = train_test_split(X, y, test_size=0.25, random_state=42)\n",
        "\n",
        "model = SVC()\n",
        "model.fit(X_train, y_train)\n",
        "\n",
        "y_pred = model.predict(X_test)\n",
        "f1_score(y_test, y_pred)"
      ]
    },
    {
      "cell_type": "code",
      "execution_count": null,
      "metadata": {
        "colab": {
          "base_uri": "https://localhost:8080/",
          "height": 467
        },
        "id": "AIRLHmhrdVDT",
        "outputId": "24a9f006-1b39-4987-a3b3-4570bf383b68"
      },
      "outputs": [
        {
          "data": {
            "text/plain": [
              "<sklearn.metrics._plot.confusion_matrix.ConfusionMatrixDisplay at 0x7a881ea3f220>"
            ]
          },
          "execution_count": 3,
          "metadata": {},
          "output_type": "execute_result"
        },
        {
          "data": {
            "image/png": "[encoded data removed]",
            "text/plain": [
              "<Figure size 640x480 with 2 Axes>"
            ]
          },
          "metadata": {},
          "output_type": "display_data"
        }
      ],
      "source": [
        "from sklearn.metrics import ConfusionMatrixDisplay\n",
        "\n",
        "ConfusionMatrixDisplay.from_estimator(model, X_test, y_test)"
      ]
    },
    {
      "cell_type": "markdown",
      "metadata": {
        "id": "WgikV7KZdggO"
      },
      "source": [
        "In the above matrix, we can see that: TP = 88, TN = 48, FP = 6, FN = 1\n",
        "\n",
        "\\begin{aligned}\n",
        "{\\displaystyle \\text{F1 Score}} & ={\\displaystyle \\frac{2 \\cdot \\text{TP}}{2 \\cdot \\text{TP} + \\text{FP} + \\text{FN}}}\\\\\n",
        " & \\\\\n",
        " & {\\displaystyle =\\frac{2 \\cdot \\text{88}}{2 \\cdot \\text{88 + 6 + 1}}}\\\\\n",
        " & \\\\\n",
        " & {\\displaystyle =\\ \\frac{\\text{176}}{\\text{183}}}\\\\\n",
        " & \\\\\n",
        " & {\\displaystyle =\\ 0.9617}\n",
        "\\end{aligned}"
      ]
    }
  ],
  "metadata": {
    "colab": {
      "provenance": []
    },
    "kernelspec": {
      "display_name": "Python 3",
      "language": "python",
      "name": "python3"
    },
    "language_info": {
      "codemirror_mode": {
        "name": "ipython",
        "version": 3
      },
      "file_extension": ".py",
      "mimetype": "text/x-python",
      "name": "python",
      "nbconvert_exporter": "python",
      "pygments_lexer": "ipython3",
      "version": "3.8.5"
    }
  },
  "nbformat": 4,
  "nbformat_minor": 0
}

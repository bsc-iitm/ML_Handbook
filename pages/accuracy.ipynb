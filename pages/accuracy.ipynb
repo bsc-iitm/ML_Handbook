{
  "cells": [
    {
      "cell_type": "markdown",
      "metadata": {},
      "source": [
        "---\n",
        "title: \"Accuracy\"\n",
        "author: \"Alape Aniruddha\"\n",
        "format:\n",
        "  html:\n",
        "    theme: theme.scss\n",
        "    toc: true\n",
        "    html-math-method: katex\n",
        "---\n"
      ]
    },
    {
      "cell_type": "markdown",
      "metadata": {
        "id": "aZRoy8JtPeYk"
      },
      "source": [
        "## What is Accuracy?\n",
        "\n",
        "Accuracy is a metric for evaluating the performance of a classification algorithm. It can be understood as the fraction of predictions the model performed correctly.\n",
        "\n",
        "$$\\displaystyle \\text{Accuracy} \\ =\\ \\frac{\\text{No of correct predictions}}{\\text{Total number of predictions}}$$"
      ]
    },
    {
      "cell_type": "markdown",
      "metadata": {
        "id": "IkvQ2IVEQnMt"
      },
      "source": [
        "## Calculating accuracy for Binary Classification problems\n",
        "</br>\n",
        "$$\\displaystyle \\text{Accuracy} \\ =\\ \\frac{\\text{TP + TN}}{\\text{TP + FP +TN + FN}}$$\n",
        "\n",
        "</br>\n",
        "\n",
        "Where,\n",
        "TP = True Positives\n",
        "FP = False Positives\n",
        "TN = True Negatives\n",
        "FN = False Negatives"
      ]
    },
    {
      "cell_type": "markdown",
      "metadata": {
        "id": "ZDYvBOpQRljr"
      },
      "source": [
        "## Issues with using Accuracy\n",
        "\n",
        "\n",
        "\n",
        "*   In an imbalaced dataset i.e when one class significantly outnumbers the other, if the model predicts the majority class all the time, we get a high accuracy but we know that the model can not be used\n",
        "\n",
        "\n",
        "\n"
      ]
    },
    {
      "cell_type": "markdown",
      "metadata": {
        "id": "rfcXPkYDSW8m"
      },
      "source": [
        "## Accuracy in imbalanced dataset\n",
        "\n",
        "Consider a dataset on 100 individuals where we would like to predict if an individual is suffering from cancer.\n",
        "\n",
        "The dataset contains 90 individuals who do not suffer from cancer (class 0) whereas 10 of them who do (class 1). If we build a model that always predicts class 0, then our model will never be able to predict that an individual might be suffering from cancer. So, we establish that this is a bad model.\n",
        "\n",
        "However based on the definition of accuracy, $$\\displaystyle \\text{Accuracy} \\ =\\ \\frac{90}{100} = 0.9$$\n",
        "\n",
        "From this, we can see that we would have to use other metrics when we have imbalanced datasets"
      ]
    },
    {
      "cell_type": "markdown",
      "metadata": {
        "id": "P3eKXr-9Y-h7"
      },
      "source": [
        "## Accuracy in sklearn\n",
        "\n",
        "link: https://scikit-learn.org/stable/modules/generated/sklearn.metrics.accuracy_score.html#sklearn.metrics.accuracy_score\n",
        "\n",
        "To calculate accuracy using sklearn, we use the **accuracy_score** function from the module **sklearn.metrics**\n",
        "\n",
        "The parameters are as follows:\n",
        "<br>\n",
        "\n",
        "*   y_true : Ground truth (correct) labels.\n",
        "*   y_pred : Predicted labels, as returned by a classifier.\n",
        "*   normalize (True) : If False, return the number of correctly classified samples. Otherwise, return the fraction of correctly classified samples.\n",
        "*   sample_weight (None) : Sample weights.\n",
        "\n",
        "\n",
        "\n",
        "\n",
        "\n",
        "\n",
        "\n"
      ]
    },
    {
      "cell_type": "code",
      "execution_count": null,
      "metadata": {
        "colab": {
          "base_uri": "https://localhost:8080/"
        },
        "id": "p_kxjj5_7KA-",
        "outputId": "5da041ec-c006-4b22-bf15-dd6d4ebadecb"
      },
      "outputs": [
        {
          "data": {
            "text/plain": [
              "0.5"
            ]
          },
          "execution_count": 1,
          "metadata": {},
          "output_type": "execute_result"
        }
      ],
      "source": [
        "from sklearn.metrics import accuracy_score\n",
        "\n",
        "y_pred = [0, 2, 1, 3]\n",
        "y_true = [0, 1, 2, 3]\n",
        "\n",
        "accuracy_score(y_true, y_pred)"
      ]
    },
    {
      "cell_type": "code",
      "execution_count": null,
      "metadata": {
        "colab": {
          "base_uri": "https://localhost:8080/"
        },
        "id": "qIv3VPKPatjo",
        "outputId": "c18e8b09-5182-4b1f-e089-05a82fd9031b"
      },
      "outputs": [
        {
          "data": {
            "text/plain": [
              "2"
            ]
          },
          "execution_count": 2,
          "metadata": {},
          "output_type": "execute_result"
        }
      ],
      "source": [
        "#normalize=False gives the count of correctly classified samples\n",
        "\n",
        "accuracy_score(y_true, y_pred, normalize=False)"
      ]
    },
    {
      "cell_type": "code",
      "execution_count": null,
      "metadata": {
        "colab": {
          "base_uri": "https://localhost:8080/"
        },
        "id": "peoqxvCPa7zY",
        "outputId": "824a01f3-768f-43d9-be8b-2f3571211882"
      },
      "outputs": [
        {
          "data": {
            "text/plain": [
              "1.0"
            ]
          },
          "execution_count": 3,
          "metadata": {},
          "output_type": "execute_result"
        }
      ],
      "source": [
        "#Sample weights can be varied for each point\n",
        "\n",
        "accuracy_score(y_true, y_pred, sample_weight=[0,0,0,1])"
      ]
    },
    {
      "cell_type": "code",
      "execution_count": null,
      "metadata": {
        "id": "Qc7CMOn4FoZR"
      },
      "outputs": [],
      "source": [
        "#To view a simplified version of the documentation in colab environment\n",
        "accuracy_score?"
      ]
    },
    {
      "cell_type": "markdown",
      "metadata": {
        "id": "MUakmmfP3Rc6"
      },
      "source": [
        "## Accuracy on a real word dataset"
      ]
    },
    {
      "cell_type": "markdown",
      "metadata": {
        "id": "L8lYBohRT-aN"
      },
      "source": [
        "We are going to calculate the accuracy of a KNN classifier model on the breast_cancer dataset using sklearn.\n",
        "\n",
        "The dataset does not have any categorical variables and we will just split the dataset into train and test. We shall fit the model on the training dataset and find the accuracy on the test dataset."
      ]
    },
    {
      "cell_type": "code",
      "execution_count": null,
      "metadata": {
        "id": "dku1SAUu3W3N"
      },
      "outputs": [],
      "source": [
        "from sklearn.datasets import load_breast_cancer\n",
        "from sklearn.model_selection import train_test_split\n",
        "\n",
        "X,y = load_breast_cancer(return_X_y=True,as_frame=True)\n",
        "\n",
        "X_train, X_test, y_train, y_test = train_test_split(X, y, test_size=0.25, random_state=42)"
      ]
    },
    {
      "cell_type": "code",
      "execution_count": null,
      "metadata": {
        "colab": {
          "base_uri": "https://localhost:8080/"
        },
        "id": "VnNYMt81_EX_",
        "outputId": "03e90e9f-7ce7-47c4-c423-6047b4d989ec"
      },
      "outputs": [
        {
          "data": {
            "text/plain": [
              "0.965034965034965"
            ]
          },
          "execution_count": 6,
          "metadata": {},
          "output_type": "execute_result"
        }
      ],
      "source": [
        "from sklearn.neighbors import KNeighborsClassifier\n",
        "\n",
        "model = KNeighborsClassifier()\n",
        "model.fit(X_train,y_train)\n",
        "\n",
        "model.score(X_test,y_test)"
      ]
    },
    {
      "cell_type": "code",
      "execution_count": null,
      "metadata": {
        "colab": {
          "base_uri": "https://localhost:8080/"
        },
        "id": "yVoYVLUKDLhU",
        "outputId": "7e4db9a7-eb0d-4656-d560-1a34af5d8c14"
      },
      "outputs": [
        {
          "data": {
            "text/plain": [
              "0.965034965034965"
            ]
          },
          "execution_count": 7,
          "metadata": {},
          "output_type": "execute_result"
        }
      ],
      "source": [
        "y_pred = model.predict(X_test)\n",
        "accuracy_score(y_test,y_pred)"
      ]
    },
    {
      "cell_type": "code",
      "execution_count": null,
      "metadata": {
        "colab": {
          "base_uri": "https://localhost:8080/",
          "height": 467
        },
        "id": "ayRvgrZLaDlC",
        "outputId": "8875f39a-c5c5-423a-c438-5f1121cb32e4"
      },
      "outputs": [
        {
          "data": {
            "text/plain": [
              "<sklearn.metrics._plot.confusion_matrix.ConfusionMatrixDisplay at 0x7d7a6fb661a0>"
            ]
          },
          "execution_count": 10,
          "metadata": {},
          "output_type": "execute_result"
        },
        {
          "data": {
            "image/png": "[encoded data removed]",
            "text/plain": [
              "<Figure size 640x480 with 2 Axes>"
            ]
          },
          "metadata": {},
          "output_type": "display_data"
        }
      ],
      "source": [
        "from sklearn.metrics import ConfusionMatrixDisplay\n",
        "\n",
        "ConfusionMatrixDisplay.from_estimator(model, X_test, y_test)"
      ]
    },
    {
      "cell_type": "markdown",
      "metadata": {
        "id": "LLVi6JwScpWs"
      },
      "source": [
        "In the above matrix, we can see that: TP = 88, TN = 50, FP = 4, FN = 1\n",
        "\n",
        "\\begin{aligned}\n",
        "{\\displaystyle \\text{Accuracy}} & ={\\displaystyle \\frac{\\text{TP + TN}}{\\text{TP + FP +TN + FN}}}\\\\\n",
        " & \\\\\n",
        " & {\\displaystyle =\\frac{\\text{88 + 50}}{\\text{88 + 4 + 50 + 1}}}\\\\\n",
        " & \\\\\n",
        " & {\\displaystyle =\\ \\frac{\\text{138}}{\\text{143}}}\\\\\n",
        " & \\\\\n",
        " & {\\displaystyle =\\ 0.965}\n",
        "\\end{aligned}"
      ]
    },
    {
      "cell_type": "markdown",
      "metadata": {
        "id": "b5RgKRH0AHS-"
      },
      "source": [
        "## Tuning for accuracy"
      ]
    },
    {
      "cell_type": "markdown",
      "metadata": {
        "id": "UosU-fjCUnwi"
      },
      "source": [
        "We use GridSearchCV for hyperparameter tuning and cross validation. We can change the scoring metric to tune the model as per our requirement."
      ]
    },
    {
      "cell_type": "code",
      "execution_count": null,
      "metadata": {
        "colab": {
          "base_uri": "https://localhost:8080/"
        },
        "id": "AkuVhEid_ijv",
        "outputId": "f9485076-9816-4682-c195-1bd65c27b823"
      },
      "outputs": [
        {
          "data": {
            "text/plain": [
              "0.972027972027972"
            ]
          },
          "execution_count": 8,
          "metadata": {},
          "output_type": "execute_result"
        }
      ],
      "source": [
        "from sklearn.model_selection import GridSearchCV\n",
        "\n",
        "param_grid = {'n_neighbors':[3,5,10,20]}\n",
        "\n",
        "model_tuned = GridSearchCV(estimator=KNeighborsClassifier(),param_grid=param_grid,scoring='accuracy')\n",
        "model_tuned.fit(X_train,y_train)\n",
        "\n",
        "model_tuned.score(X_test,y_test)"
      ]
    },
    {
      "cell_type": "markdown",
      "metadata": {
        "id": "MNpicHtKIAAg"
      },
      "source": [
        "## Notes\n",
        "\n",
        "*   The value of accuracy required by a model varies by use case\n",
        "*   Accuracy can often be a misleading metric"
      ]
    }
  ],
  "metadata": {
    "colab": {
      "provenance": []
    },
    "kernelspec": {
      "display_name": "Python 3",
      "name": "python3"
    },
    "language_info": {
      "name": "python"
    }
  },
  "nbformat": 4,
  "nbformat_minor": 0
}

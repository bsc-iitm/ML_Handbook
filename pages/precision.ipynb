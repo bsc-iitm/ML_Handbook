{
  "cells": [
    {
      "cell_type": "markdown",
      "metadata": {},
      "source": [
        "---\n",
        "title: \"Precision in Classification Metrics\"\n",
        "author: \"Alape Aniruddha\"\n",
        "format:\n",
        "  html:\n",
        "    theme: theme.scss\n",
        "    toc: true\n",
        "    html-math-method: katex\n",
        "---\n"
      ]
    },
    {
      "cell_type": "markdown",
      "metadata": {
        "id": "cZ6rtZgeAPf8"
      },
      "source": [
        "Precision is a classification metric that measures the accuracy of the positive predictions made by a model. It is defined as the ratio of true positives to the sum of true positives and false positives."
      ]
    },
    {
      "cell_type": "markdown",
      "metadata": {
        "id": "f0yI05KGAH_t"
      },
      "source": [
        "$$\\displaystyle \\text{Precision} \\ =\\ \\frac{\\text{True Positives}}{\\text{True Positives + False Positives}}$$\n"
      ]
    },
    {
      "cell_type": "markdown",
      "metadata": {
        "id": "Pf16iRe2AH6s"
      },
      "source": [
        "Precision is particularly useful in situations where the cost of false positives is high. For example, in medical diagnoses, where a false positive might lead to unnecessary treatments, precision becomes a crucial metric."
      ]
    },
    {
      "cell_type": "markdown",
      "metadata": {
        "id": "mlcnehbsAHz5"
      },
      "source": [
        "## Calculating Precision for Binary Classification Problems\n",
        "\n",
        "</br>\n",
        "$$\\displaystyle \\text{Precision} \\ =\\ \\frac{\\text{TP}}{\\text{TP + FP}}$$\n",
        "\n",
        "</br>\n",
        "\n",
        "Where,\n",
        "TP = True Positives\n",
        "FP = False Positives"
      ]
    },
    {
      "cell_type": "markdown",
      "metadata": {
        "id": "aaPhMfkOAHr6"
      },
      "source": [
        "## Issues with using Precision\n",
        "\n",
        "- A model with high precision may still have low recall, and vice versa. There is often a trade-off between precision and recall, and the choice between them depends on the specific problem and its requirements."
      ]
    },
    {
      "cell_type": "markdown",
      "metadata": {
        "id": "ypLSviRLh1Ug"
      },
      "source": [
        "## Where can Precision be used?\n",
        "\n",
        "- In Fraud detection, if the primary objective is customer service, we do not want to flag a genuine transaction as fraud leading to inconvenience to the customer."
      ]
    },
    {
      "cell_type": "markdown",
      "metadata": {
        "id": "ct7At6WhBNQR"
      },
      "source": [
        "## Precision in sklearn\n",
        "\n",
        "[`precision_score`](https://scikit-learn.org/stable/modules/generated/sklearn.metrics.precision_score.html) is the function in scikit-learn used to calculate precision."
      ]
    },
    {
      "cell_type": "markdown",
      "metadata": {
        "id": "VURHOzCCBNNZ"
      },
      "source": [
        "The parameters are as follows:\n",
        "- `y_true`: Ground truth (correct) labels.\n",
        "- `y_pred`: Predicted lab as returned by a classifier.\n",
        "- `labels` (None): The set of labels to include when `average` is not None.\n",
        "- `pos_label` (1): The label of the positive class.\n",
        "- `average` ('binary'): The averaging strategy for multiclass settings.\n",
        "- `sample_weight` (None): Sample weights.\n"
      ]
    },
    {
      "cell_type": "code",
      "execution_count": null,
      "metadata": {
        "colab": {
          "base_uri": "https://localhost:8080/"
        },
        "id": "KCn6-vqJBjNM",
        "outputId": "2ef7e04d-84a2-425d-fd64-bd9ce886f13e"
      },
      "outputs": [
        {
          "data": {
            "text/plain": [
              "1.0"
            ]
          },
          "execution_count": 1,
          "metadata": {},
          "output_type": "execute_result"
        }
      ],
      "source": [
        "from sklearn.metrics import precision_score\n",
        "\n",
        "y_true = [0, 1, 1, 1, 0, 1]\n",
        "y_pred = [0, 1, 0, 1, 0, 1]\n",
        "\n",
        "precision_score(y_true, y_pred)"
      ]
    },
    {
      "cell_type": "markdown",
      "metadata": {
        "id": "skQqHizaBNKv"
      },
      "source": [
        "## Precision on a real-world dataset\n",
        "\n",
        "We are going to calculate the precision of a logistic regression model on the breast_cancer dataset using sklearn."
      ]
    },
    {
      "cell_type": "code",
      "execution_count": null,
      "metadata": {
        "colab": {
          "base_uri": "https://localhost:8080/"
        },
        "id": "4jXKBM8CBxV6",
        "outputId": "27b41983-5ff9-4cf8-c817-64749eec43ae"
      },
      "outputs": [
        {
          "name": "stderr",
          "output_type": "stream",
          "text": [
            "/usr/local/lib/python3.10/dist-packages/sklearn/linear_model/_logistic.py:458: ConvergenceWarning: lbfgs failed to converge (status=1):\n",
            "STOP: TOTAL NO. of ITERATIONS REACHED LIMIT.\n",
            "\n",
            "Increase the number of iterations (max_iter) or scale the data as shown in:\n",
            "    https://scikit-learn.org/stable/modules/preprocessing.html\n",
            "Please also refer to the documentation for alternative solver options:\n",
            "    https://scikit-learn.org/stable/modules/linear_model.html#logistic-regression\n",
            "  n_iter_i = _check_optimize_result(\n"
          ]
        },
        {
          "data": {
            "text/plain": [
              "0.9666666666666667"
            ]
          },
          "execution_count": 2,
          "metadata": {},
          "output_type": "execute_result"
        }
      ],
      "source": [
        "from sklearn.datasets import load_breast_cancer\n",
        "from sklearn.model_selection import train_test_split\n",
        "from sklearn.linear_model import LogisticRegression\n",
        "\n",
        "X, y = load_breast_cancer(return_X_y=True, as_frame=True)\n",
        "X_train, X_test, y_train, y_test = train_test_split(X, y, test_size=0.25, random_state=42)\n",
        "\n",
        "model = LogisticRegression()\n",
        "model.fit(X_train, y_train)\n",
        "\n",
        "y_pred = model.predict(X_test)\n",
        "precision_score(y_test, y_pred)"
      ]
    },
    {
      "cell_type": "code",
      "execution_count": null,
      "metadata": {
        "colab": {
          "base_uri": "https://localhost:8080/",
          "height": 467
        },
        "id": "-xYpbCvBe4iT",
        "outputId": "cdb8f6b0-5ec8-430c-b88b-12838bb799c1"
      },
      "outputs": [
        {
          "data": {
            "text/plain": [
              "<sklearn.metrics._plot.confusion_matrix.ConfusionMatrixDisplay at 0x7e3d61cdd180>"
            ]
          },
          "execution_count": 3,
          "metadata": {},
          "output_type": "execute_result"
        },
        {
          "data": {
            "image/png": "[encoded data removed]",
            "text/plain": [
              "<Figure size 640x480 with 2 Axes>"
            ]
          },
          "metadata": {},
          "output_type": "display_data"
        }
      ],
      "source": [
        "from sklearn.metrics import ConfusionMatrixDisplay\n",
        "\n",
        "ConfusionMatrixDisplay.from_estimator(model, X_test, y_test)"
      ]
    },
    {
      "cell_type": "markdown",
      "metadata": {
        "id": "yhjk6dL0e7G8"
      },
      "source": [
        "In the above matrix, we can see that: TP = 87, TN = 51, FP = 3, FN = 2\n",
        "\n",
        "\\begin{aligned}\n",
        "{\\displaystyle \\text{Precision}} & ={\\displaystyle \\frac{\\text{TP}}{\\text{TP} + \\text{FP}}}\\\\\n",
        " & \\\\\n",
        " & {\\displaystyle =\\frac{\\text{87}}{\\text{87 + 3}}}\\\\\n",
        " & \\\\\n",
        " & {\\displaystyle =\\ \\frac{\\text{87}}{\\text{90}}}\\\\\n",
        " & \\\\\n",
        " & {\\displaystyle =\\ 0.9666}\n",
        "\\end{aligned}"
      ]
    }
  ],
  "metadata": {
    "colab": {
      "provenance": []
    },
    "kernelspec": {
      "display_name": "Python 3",
      "name": "python3"
    },
    "language_info": {
      "name": "python"
    }
  },
  "nbformat": 4,
  "nbformat_minor": 0
}

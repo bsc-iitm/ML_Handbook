{
  "cells": [
    {
      "cell_type": "markdown",
      "metadata": {},
      "source": [
        "---\n",
        "title: \"Recall in Classification Metrics\"\n",
        "author: \"Alape Aniruddha\"\n",
        "format:\n",
        "  html:\n",
        "    theme: theme.scss\n",
        "    toc: true\n",
        "    html-math-method: katex\n",
        "---\n"
      ]
    },
    {
      "cell_type": "markdown",
      "metadata": {
        "id": "Y7iZPl1JDmDu"
      },
      "source": [
        "Recall, also known as sensitivity or true positive rate, is a classification metric that measures the ability of a model to capture all instances of the positive class. It is defined as the ratio of true positives to the sum of true positives and false negatives.\n",
        "\n",
        "$$\\displaystyle \\text{Recall} = \\frac{\\text{True Positives}}{\\text{True Positives + False Negatives}}$$\n",
        "\n",
        "Recall is particularly important in situations where missing positive instances is costly.\n",
        "\n",
        "\n",
        "\n",
        "\n",
        "\n",
        "\n",
        "\n",
        "\n",
        "\n"
      ]
    },
    {
      "cell_type": "markdown",
      "metadata": {
        "id": "68yM6lqpD-JJ"
      },
      "source": [
        "## Calculating Recall for Binary Classification Problems\n",
        "\n",
        "$$\\displaystyle \\text{Recall} = \\frac{\\text{TP}}{\\text{TP + FN}}$$\n",
        "\n",
        "Where,\n",
        "TP = True Positives\n",
        "FN = False Negatives"
      ]
    },
    {
      "cell_type": "markdown",
      "metadata": {
        "id": "iDJOrOzYD8sU"
      },
      "source": [
        "## Where can Recall be used?\n",
        "\n",
        "Recall is a useful metric when missing positive instances is more critical then incorrectly classifying negative instances.\n",
        "- Consider the case of disease diagnosis. If the patient has the disease(positive) and our model predicts it as negative, then our model has failed to detect the disease and this can have crucial consequences.\n",
        "- In Fraud detection, if the primary objective is to capture as many fraudulent transactions as possible even at the cost of flagging legitimate transactions as fraud. If our model predicts fradulent transaction as legitimate, this increases the value of False Negatives thereby reducing the value of recall"
      ]
    },
    {
      "cell_type": "markdown",
      "metadata": {
        "id": "cex8MRgvD2Hc"
      },
      "source": [
        "## Recall in sklearn\n",
        "\n",
        "[`recall_score`](https://scikit-learn.org/stable/modules/generated/sklearn.metrics.recall_score.html) is the function in scikit-learn used to calculate recall.\n",
        "\n",
        "The parameters are as follows:\n",
        "\n",
        "- `y_true`: Ground truth (correct) labels.\n",
        "- `y_pred`: Predicted labels, as returned by a classifier.\n",
        "- `labels` (None): The set of labels to include when `average` is not None.\n",
        "- `pos_label` (1): The label of the positive class.\n",
        "- `average` ('binary'): The averaging strategy for multiclass settings.\n",
        "- `sample_weight` (None): Sample weights."
      ]
    },
    {
      "cell_type": "code",
      "execution_count": null,
      "metadata": {
        "colab": {
          "base_uri": "https://localhost:8080/"
        },
        "id": "lGC8ZrIjDzT_",
        "outputId": "f616bc58-e0fa-43ec-f227-d77d658856e8"
      },
      "outputs": [
        {
          "data": {
            "text/plain": [
              "0.75"
            ]
          },
          "execution_count": 1,
          "metadata": {},
          "output_type": "execute_result"
        }
      ],
      "source": [
        "from sklearn.metrics import recall_score\n",
        "\n",
        "y_true = [0, 1, 1, 1, 0, 1]\n",
        "y_pred = [0, 1, 0, 1, 0, 1]\n",
        "\n",
        "recall_score(y_true, y_pred)"
      ]
    },
    {
      "cell_type": "markdown",
      "metadata": {
        "id": "y-g9tIi4DxBi"
      },
      "source": [
        "## Recall on a real-world dataset\n",
        "\n",
        "We are going to calculate the recall of a decision tree classifier model on the breast_cancer dataset using sklearn."
      ]
    },
    {
      "cell_type": "code",
      "execution_count": null,
      "metadata": {
        "colab": {
          "base_uri": "https://localhost:8080/"
        },
        "id": "tcnJTpxnDpzX",
        "outputId": "88ab3411-19b0-4901-9a6d-ecf9f879e839"
      },
      "outputs": [
        {
          "data": {
            "text/plain": [
              "0.9325842696629213"
            ]
          },
          "execution_count": 2,
          "metadata": {},
          "output_type": "execute_result"
        }
      ],
      "source": [
        "from sklearn.datasets import load_breast_cancer\n",
        "from sklearn.model_selection import train_test_split\n",
        "from sklearn.tree import DecisionTreeClassifier\n",
        "\n",
        "X, y = load_breast_cancer(return_X_y=True, as_frame=True)\n",
        "X_train, X_test, y_train, y_test = train_test_split(X, y, test_size=0.25, random_state=42)\n",
        "\n",
        "model = DecisionTreeClassifier()\n",
        "model.fit(X_train, y_train)\n",
        "\n",
        "y_pred = model.predict(X_test)\n",
        "recall_score(y_test, y_pred)"
      ]
    },
    {
      "cell_type": "code",
      "execution_count": null,
      "metadata": {
        "colab": {
          "base_uri": "https://localhost:8080/",
          "height": 467
        },
        "id": "xjYEh8s3gTXI",
        "outputId": "00a22736-3be2-4325-ab0c-a3c59d2567ab"
      },
      "outputs": [
        {
          "data": {
            "text/plain": [
              "<sklearn.metrics._plot.confusion_matrix.ConfusionMatrixDisplay at 0x7987c534c670>"
            ]
          },
          "execution_count": 3,
          "metadata": {},
          "output_type": "execute_result"
        },
        {
          "data": {
            "image/png": "[encoded data removed]",
            "text/plain": [
              "<Figure size 640x480 with 2 Axes>"
            ]
          },
          "metadata": {},
          "output_type": "display_data"
        }
      ],
      "source": [
        "from sklearn.metrics import ConfusionMatrixDisplay\n",
        "\n",
        "ConfusionMatrixDisplay.from_estimator(model, X_test, y_test)"
      ]
    },
    {
      "cell_type": "markdown",
      "metadata": {
        "id": "DYuQs3EKgUHO"
      },
      "source": [
        "In the above matrix, we can see that: TP = 83, TN = 51, FP = 3, FN = 6\n",
        "\n",
        "\\begin{aligned}\n",
        "{\\displaystyle \\text{Recall}} & ={\\displaystyle \\frac{\\text{TP}}{\\text{TP} + \\text{FN}}}\\\\\n",
        " & \\\\\n",
        " & {\\displaystyle =\\frac{\\text{83}}{\\text{83 + 6}}}\\\\\n",
        " & \\\\\n",
        " & {\\displaystyle =\\ \\frac{\\text{83}}{\\text{89}}}\\\\\n",
        " & \\\\\n",
        " & {\\displaystyle =\\ 0.9325}\n",
        "\\end{aligned}"
      ]
    }
  ],
  "metadata": {
    "colab": {
      "provenance": []
    },
    "kernelspec": {
      "display_name": "Python 3",
      "language": "python",
      "name": "python3"
    },
    "language_info": {
      "codemirror_mode": {
        "name": "ipython",
        "version": 3
      },
      "file_extension": ".py",
      "mimetype": "text/x-python",
      "name": "python",
      "nbconvert_exporter": "python",
      "pygments_lexer": "ipython3",
      "version": "3.8.5"
    }
  },
  "nbformat": 4,
  "nbformat_minor": 0
}
